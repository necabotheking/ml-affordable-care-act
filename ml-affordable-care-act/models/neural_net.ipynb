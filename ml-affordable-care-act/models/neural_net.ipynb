{
 "cells": [
  {
   "cell_type": "code",
   "execution_count": 2,
   "metadata": {},
   "outputs": [],
   "source": [
    "import nltk\n",
    "import sklearn\n",
    "import pandas as pd\n",
    "import numpy as np\n",
    "from sklearn.neural_network import MLPClassifier\n",
    "from sklearn.neural_network import MLPRegressor\n",
    "from sklearn.feature_extraction.text import TfidfVectorizer\n",
    "from sklearn.feature_extraction.text import CountVectorizer\n",
    "from sklearn.metrics import r2_score\n",
    "from sklearn.model_selection import train_test_split\n",
    "from sklearn.metrics import mean_squared_error\n",
    "from math import sqrt\n",
    "from nltk.tokenize import word_tokenize\n",
    "from nltk.corpus import stopwords"
   ]
  },
  {
   "attachments": {},
   "cell_type": "markdown",
   "metadata": {},
   "source": [
    "Tokenizer: would convert tweets to a list of words\n",
    "StopWordsRemover: removes stop words from the list\n",
    "TF-IDF Vectorizer: Term Frequency-Inverse Document Frequency"
   ]
  },
  {
   "cell_type": "code",
   "execution_count": 3,
   "metadata": {},
   "outputs": [
    {
     "data": {
      "text/html": [
       "<div>\n",
       "<style scoped>\n",
       "    .dataframe tbody tr th:only-of-type {\n",
       "        vertical-align: middle;\n",
       "    }\n",
       "\n",
       "    .dataframe tbody tr th {\n",
       "        vertical-align: top;\n",
       "    }\n",
       "\n",
       "    .dataframe thead th {\n",
       "        text-align: right;\n",
       "    }\n",
       "</style>\n",
       "<table border=\"1\" class=\"dataframe\">\n",
       "  <thead>\n",
       "    <tr style=\"text-align: right;\">\n",
       "      <th></th>\n",
       "      <th>Unnamed: 0</th>\n",
       "      <th>stars</th>\n",
       "      <th>text</th>\n",
       "      <th>date</th>\n",
       "    </tr>\n",
       "  </thead>\n",
       "  <tbody>\n",
       "    <tr>\n",
       "      <th>0</th>\n",
       "      <td>0</td>\n",
       "      <td>1</td>\n",
       "      <td>I ordered online for curbside pickup.I was inf...</td>\n",
       "      <td>2021-09-26 14:29:01</td>\n",
       "    </tr>\n",
       "    <tr>\n",
       "      <th>1</th>\n",
       "      <td>1</td>\n",
       "      <td>3</td>\n",
       "      <td>This place has really nice staffs but the food...</td>\n",
       "      <td>2016-03-25 23:09:51</td>\n",
       "    </tr>\n",
       "    <tr>\n",
       "      <th>2</th>\n",
       "      <td>2</td>\n",
       "      <td>5</td>\n",
       "      <td>Grilled oyster is def the best in French quart...</td>\n",
       "      <td>2019-12-28 20:17:36</td>\n",
       "    </tr>\n",
       "    <tr>\n",
       "      <th>3</th>\n",
       "      <td>3</td>\n",
       "      <td>4</td>\n",
       "      <td>Started going to this place about 6 months ago...</td>\n",
       "      <td>2014-10-25 20:47:28</td>\n",
       "    </tr>\n",
       "    <tr>\n",
       "      <th>4</th>\n",
       "      <td>4</td>\n",
       "      <td>4</td>\n",
       "      <td>Discovered Foghorn on a Sunday evening while s...</td>\n",
       "      <td>2016-10-10 19:23:47</td>\n",
       "    </tr>\n",
       "    <tr>\n",
       "      <th>...</th>\n",
       "      <td>...</td>\n",
       "      <td>...</td>\n",
       "      <td>...</td>\n",
       "      <td>...</td>\n",
       "    </tr>\n",
       "    <tr>\n",
       "      <th>99995</th>\n",
       "      <td>99995</td>\n",
       "      <td>5</td>\n",
       "      <td>A &amp; L was awesome. For months, and \"I can do i...</td>\n",
       "      <td>2019-04-17 13:08:41</td>\n",
       "    </tr>\n",
       "    <tr>\n",
       "      <th>99996</th>\n",
       "      <td>99996</td>\n",
       "      <td>5</td>\n",
       "      <td>Steinbeck is a wonderful and caring veterinari...</td>\n",
       "      <td>2018-02-10 04:21:45</td>\n",
       "    </tr>\n",
       "    <tr>\n",
       "      <th>99997</th>\n",
       "      <td>99997</td>\n",
       "      <td>5</td>\n",
       "      <td>What a great restaurant!  It's a modest restau...</td>\n",
       "      <td>2021-10-03 10:12:12</td>\n",
       "    </tr>\n",
       "    <tr>\n",
       "      <th>99998</th>\n",
       "      <td>99998</td>\n",
       "      <td>2</td>\n",
       "      <td>stopped at this Ihop after dropping the dog of...</td>\n",
       "      <td>2012-08-05 00:27:42</td>\n",
       "    </tr>\n",
       "    <tr>\n",
       "      <th>99999</th>\n",
       "      <td>99999</td>\n",
       "      <td>5</td>\n",
       "      <td>Went in for manicure had a absolutely wonderfu...</td>\n",
       "      <td>2021-12-02 17:04:58</td>\n",
       "    </tr>\n",
       "  </tbody>\n",
       "</table>\n",
       "<p>100000 rows × 4 columns</p>\n",
       "</div>"
      ],
      "text/plain": [
       "       Unnamed: 0  stars                                               text  \\\n",
       "0               0      1  I ordered online for curbside pickup.I was inf...   \n",
       "1               1      3  This place has really nice staffs but the food...   \n",
       "2               2      5  Grilled oyster is def the best in French quart...   \n",
       "3               3      4  Started going to this place about 6 months ago...   \n",
       "4               4      4  Discovered Foghorn on a Sunday evening while s...   \n",
       "...           ...    ...                                                ...   \n",
       "99995       99995      5  A & L was awesome. For months, and \"I can do i...   \n",
       "99996       99996      5  Steinbeck is a wonderful and caring veterinari...   \n",
       "99997       99997      5  What a great restaurant!  It's a modest restau...   \n",
       "99998       99998      2  stopped at this Ihop after dropping the dog of...   \n",
       "99999       99999      5  Went in for manicure had a absolutely wonderfu...   \n",
       "\n",
       "                      date  \n",
       "0      2021-09-26 14:29:01  \n",
       "1      2016-03-25 23:09:51  \n",
       "2      2019-12-28 20:17:36  \n",
       "3      2014-10-25 20:47:28  \n",
       "4      2016-10-10 19:23:47  \n",
       "...                    ...  \n",
       "99995  2019-04-17 13:08:41  \n",
       "99996  2018-02-10 04:21:45  \n",
       "99997  2021-10-03 10:12:12  \n",
       "99998  2012-08-05 00:27:42  \n",
       "99999  2021-12-02 17:04:58  \n",
       "\n",
       "[100000 rows x 4 columns]"
      ]
     },
     "execution_count": 3,
     "metadata": {},
     "output_type": "execute_result"
    }
   ],
   "source": [
    "def read_yelp():\n",
    "    \"\"\"\n",
    "    Read in the cleaned Yelp as \"chunks\", which are smaller and can be rejoined\n",
    "    #to recreate whole dataset without crashing pandas.\n",
    "    This will take between 4 and 5 minutes.\n",
    "    #Source: https://stackoverflow.com/questions/46790390/how-to-read-a-large-json-in-pandas\n",
    "    \"\"\"\n",
    "    yelp_data = pd.read_csv(\"/Users/necabotheking/Documents/Github/ml-affordable-care-act/ml-affordable-care-act/data/yelp_true_sample_100k.csv\")\n",
    "\n",
    "    return yelp_data\n",
    "\n",
    "yelp_data = read_yelp()\n",
    "yelp_data\n"
   ]
  },
  {
   "cell_type": "code",
   "execution_count": 4,
   "metadata": {},
   "outputs": [],
   "source": [
    "yelp_data = pd.read_csv(\"/Users/necabotheking/Documents/Github/ml-affordable-care-act/ml-affordable-care-act/data/yelp_true_sample_100k.csv\")"
   ]
  },
  {
   "cell_type": "code",
   "execution_count": 5,
   "metadata": {},
   "outputs": [
    {
     "data": {
      "text/html": [
       "<div>\n",
       "<style scoped>\n",
       "    .dataframe tbody tr th:only-of-type {\n",
       "        vertical-align: middle;\n",
       "    }\n",
       "\n",
       "    .dataframe tbody tr th {\n",
       "        vertical-align: top;\n",
       "    }\n",
       "\n",
       "    .dataframe thead th {\n",
       "        text-align: right;\n",
       "    }\n",
       "</style>\n",
       "<table border=\"1\" class=\"dataframe\">\n",
       "  <thead>\n",
       "    <tr style=\"text-align: right;\">\n",
       "      <th></th>\n",
       "      <th>Unnamed: 0</th>\n",
       "      <th>stars</th>\n",
       "      <th>text</th>\n",
       "      <th>date</th>\n",
       "    </tr>\n",
       "  </thead>\n",
       "  <tbody>\n",
       "    <tr>\n",
       "      <th>0</th>\n",
       "      <td>0</td>\n",
       "      <td>1</td>\n",
       "      <td>ordered online curbside pickup.I informed 30mi...</td>\n",
       "      <td>2021-09-26 14:29:01</td>\n",
       "    </tr>\n",
       "    <tr>\n",
       "      <th>1</th>\n",
       "      <td>1</td>\n",
       "      <td>3</td>\n",
       "      <td>place really nice staffs food got best.The ric...</td>\n",
       "      <td>2016-03-25 23:09:51</td>\n",
       "    </tr>\n",
       "    <tr>\n",
       "      <th>2</th>\n",
       "      <td>2</td>\n",
       "      <td>5</td>\n",
       "      <td>Grilled oyster def best French quarter. tried ...</td>\n",
       "      <td>2019-12-28 20:17:36</td>\n",
       "    </tr>\n",
       "    <tr>\n",
       "      <th>3</th>\n",
       "      <td>3</td>\n",
       "      <td>4</td>\n",
       "      <td>Started going place 6 months ago become apart ...</td>\n",
       "      <td>2014-10-25 20:47:28</td>\n",
       "    </tr>\n",
       "    <tr>\n",
       "      <th>4</th>\n",
       "      <td>4</td>\n",
       "      <td>4</td>\n",
       "      <td>Discovered Foghorn Sunday evening searching on...</td>\n",
       "      <td>2016-10-10 19:23:47</td>\n",
       "    </tr>\n",
       "    <tr>\n",
       "      <th>...</th>\n",
       "      <td>...</td>\n",
       "      <td>...</td>\n",
       "      <td>...</td>\n",
       "      <td>...</td>\n",
       "    </tr>\n",
       "    <tr>\n",
       "      <th>99995</th>\n",
       "      <td>99995</td>\n",
       "      <td>5</td>\n",
       "      <td>&amp; L awesome. months, \"I myself\", rattling frid...</td>\n",
       "      <td>2019-04-17 13:08:41</td>\n",
       "    </tr>\n",
       "    <tr>\n",
       "      <th>99996</th>\n",
       "      <td>99996</td>\n",
       "      <td>5</td>\n",
       "      <td>Steinbeck wonderful caring veterinarian practi...</td>\n",
       "      <td>2018-02-10 04:21:45</td>\n",
       "    </tr>\n",
       "    <tr>\n",
       "      <th>99997</th>\n",
       "      <td>99997</td>\n",
       "      <td>5</td>\n",
       "      <td>great restaurant! modest restaurant nice peopl...</td>\n",
       "      <td>2021-10-03 10:12:12</td>\n",
       "    </tr>\n",
       "    <tr>\n",
       "      <th>99998</th>\n",
       "      <td>99998</td>\n",
       "      <td>2</td>\n",
       "      <td>stopped Ihop dropping dog TWB2. closest locati...</td>\n",
       "      <td>2012-08-05 00:27:42</td>\n",
       "    </tr>\n",
       "    <tr>\n",
       "      <th>99999</th>\n",
       "      <td>99999</td>\n",
       "      <td>5</td>\n",
       "      <td>Went manicure absolutely wonderful experience....</td>\n",
       "      <td>2021-12-02 17:04:58</td>\n",
       "    </tr>\n",
       "  </tbody>\n",
       "</table>\n",
       "<p>100000 rows × 4 columns</p>\n",
       "</div>"
      ],
      "text/plain": [
       "       Unnamed: 0  stars                                               text  \\\n",
       "0               0      1  ordered online curbside pickup.I informed 30mi...   \n",
       "1               1      3  place really nice staffs food got best.The ric...   \n",
       "2               2      5  Grilled oyster def best French quarter. tried ...   \n",
       "3               3      4  Started going place 6 months ago become apart ...   \n",
       "4               4      4  Discovered Foghorn Sunday evening searching on...   \n",
       "...           ...    ...                                                ...   \n",
       "99995       99995      5  & L awesome. months, \"I myself\", rattling frid...   \n",
       "99996       99996      5  Steinbeck wonderful caring veterinarian practi...   \n",
       "99997       99997      5  great restaurant! modest restaurant nice peopl...   \n",
       "99998       99998      2  stopped Ihop dropping dog TWB2. closest locati...   \n",
       "99999       99999      5  Went manicure absolutely wonderful experience....   \n",
       "\n",
       "                      date  \n",
       "0      2021-09-26 14:29:01  \n",
       "1      2016-03-25 23:09:51  \n",
       "2      2019-12-28 20:17:36  \n",
       "3      2014-10-25 20:47:28  \n",
       "4      2016-10-10 19:23:47  \n",
       "...                    ...  \n",
       "99995  2019-04-17 13:08:41  \n",
       "99996  2018-02-10 04:21:45  \n",
       "99997  2021-10-03 10:12:12  \n",
       "99998  2012-08-05 00:27:42  \n",
       "99999  2021-12-02 17:04:58  \n",
       "\n",
       "[100000 rows x 4 columns]"
      ]
     },
     "execution_count": 5,
     "metadata": {},
     "output_type": "execute_result"
    }
   ],
   "source": [
    "def preprocess_text(data_frame):\n",
    "    \"\"\"\n",
    "    Inputs: \n",
    "        data_frame: Pandas Dataframe\n",
    "    \n",
    "    Returns: data_frame: Pandas Dataframe modified in place\n",
    "    \"\"\"\n",
    "    stop_words = stopwords.words(\"english\")\n",
    "\n",
    "    data_frame['text'] = data_frame['text'].apply(lambda x: \" \".join\n",
    "                                                  ([word for word in x.split() if word.lower() not in (stop_words)]))\n",
    "\n",
    "    return data_frame\n",
    "\n",
    "yelp_data = preprocess_text(yelp_data)\n",
    "yelp_data\n"
   ]
  },
  {
   "cell_type": "code",
   "execution_count": 6,
   "metadata": {},
   "outputs": [
    {
     "data": {
      "text/html": [
       "<div>\n",
       "<style scoped>\n",
       "    .dataframe tbody tr th:only-of-type {\n",
       "        vertical-align: middle;\n",
       "    }\n",
       "\n",
       "    .dataframe tbody tr th {\n",
       "        vertical-align: top;\n",
       "    }\n",
       "\n",
       "    .dataframe thead th {\n",
       "        text-align: right;\n",
       "    }\n",
       "</style>\n",
       "<table border=\"1\" class=\"dataframe\">\n",
       "  <thead>\n",
       "    <tr style=\"text-align: right;\">\n",
       "      <th></th>\n",
       "      <th>Unnamed: 0</th>\n",
       "      <th>stars</th>\n",
       "      <th>text</th>\n",
       "      <th>date</th>\n",
       "      <th>sentiment</th>\n",
       "    </tr>\n",
       "  </thead>\n",
       "  <tbody>\n",
       "    <tr>\n",
       "      <th>0</th>\n",
       "      <td>0</td>\n",
       "      <td>1</td>\n",
       "      <td>ordered online curbside pickup.I informed 30mi...</td>\n",
       "      <td>2021-09-26 14:29:01</td>\n",
       "      <td>0</td>\n",
       "    </tr>\n",
       "    <tr>\n",
       "      <th>1</th>\n",
       "      <td>1</td>\n",
       "      <td>3</td>\n",
       "      <td>place really nice staffs food got best.The ric...</td>\n",
       "      <td>2016-03-25 23:09:51</td>\n",
       "      <td>1</td>\n",
       "    </tr>\n",
       "    <tr>\n",
       "      <th>2</th>\n",
       "      <td>2</td>\n",
       "      <td>5</td>\n",
       "      <td>Grilled oyster def best French quarter. tried ...</td>\n",
       "      <td>2019-12-28 20:17:36</td>\n",
       "      <td>1</td>\n",
       "    </tr>\n",
       "    <tr>\n",
       "      <th>3</th>\n",
       "      <td>3</td>\n",
       "      <td>4</td>\n",
       "      <td>Started going place 6 months ago become apart ...</td>\n",
       "      <td>2014-10-25 20:47:28</td>\n",
       "      <td>1</td>\n",
       "    </tr>\n",
       "    <tr>\n",
       "      <th>4</th>\n",
       "      <td>4</td>\n",
       "      <td>4</td>\n",
       "      <td>Discovered Foghorn Sunday evening searching on...</td>\n",
       "      <td>2016-10-10 19:23:47</td>\n",
       "      <td>1</td>\n",
       "    </tr>\n",
       "    <tr>\n",
       "      <th>...</th>\n",
       "      <td>...</td>\n",
       "      <td>...</td>\n",
       "      <td>...</td>\n",
       "      <td>...</td>\n",
       "      <td>...</td>\n",
       "    </tr>\n",
       "    <tr>\n",
       "      <th>99995</th>\n",
       "      <td>99995</td>\n",
       "      <td>5</td>\n",
       "      <td>&amp; L awesome. months, \"I myself\", rattling frid...</td>\n",
       "      <td>2019-04-17 13:08:41</td>\n",
       "      <td>1</td>\n",
       "    </tr>\n",
       "    <tr>\n",
       "      <th>99996</th>\n",
       "      <td>99996</td>\n",
       "      <td>5</td>\n",
       "      <td>Steinbeck wonderful caring veterinarian practi...</td>\n",
       "      <td>2018-02-10 04:21:45</td>\n",
       "      <td>1</td>\n",
       "    </tr>\n",
       "    <tr>\n",
       "      <th>99997</th>\n",
       "      <td>99997</td>\n",
       "      <td>5</td>\n",
       "      <td>great restaurant! modest restaurant nice peopl...</td>\n",
       "      <td>2021-10-03 10:12:12</td>\n",
       "      <td>1</td>\n",
       "    </tr>\n",
       "    <tr>\n",
       "      <th>99998</th>\n",
       "      <td>99998</td>\n",
       "      <td>2</td>\n",
       "      <td>stopped Ihop dropping dog TWB2. closest locati...</td>\n",
       "      <td>2012-08-05 00:27:42</td>\n",
       "      <td>0</td>\n",
       "    </tr>\n",
       "    <tr>\n",
       "      <th>99999</th>\n",
       "      <td>99999</td>\n",
       "      <td>5</td>\n",
       "      <td>Went manicure absolutely wonderful experience....</td>\n",
       "      <td>2021-12-02 17:04:58</td>\n",
       "      <td>1</td>\n",
       "    </tr>\n",
       "  </tbody>\n",
       "</table>\n",
       "<p>100000 rows × 5 columns</p>\n",
       "</div>"
      ],
      "text/plain": [
       "       Unnamed: 0  stars                                               text  \\\n",
       "0               0      1  ordered online curbside pickup.I informed 30mi...   \n",
       "1               1      3  place really nice staffs food got best.The ric...   \n",
       "2               2      5  Grilled oyster def best French quarter. tried ...   \n",
       "3               3      4  Started going place 6 months ago become apart ...   \n",
       "4               4      4  Discovered Foghorn Sunday evening searching on...   \n",
       "...           ...    ...                                                ...   \n",
       "99995       99995      5  & L awesome. months, \"I myself\", rattling frid...   \n",
       "99996       99996      5  Steinbeck wonderful caring veterinarian practi...   \n",
       "99997       99997      5  great restaurant! modest restaurant nice peopl...   \n",
       "99998       99998      2  stopped Ihop dropping dog TWB2. closest locati...   \n",
       "99999       99999      5  Went manicure absolutely wonderful experience....   \n",
       "\n",
       "                      date  sentiment  \n",
       "0      2021-09-26 14:29:01          0  \n",
       "1      2016-03-25 23:09:51          1  \n",
       "2      2019-12-28 20:17:36          1  \n",
       "3      2014-10-25 20:47:28          1  \n",
       "4      2016-10-10 19:23:47          1  \n",
       "...                    ...        ...  \n",
       "99995  2019-04-17 13:08:41          1  \n",
       "99996  2018-02-10 04:21:45          1  \n",
       "99997  2021-10-03 10:12:12          1  \n",
       "99998  2012-08-05 00:27:42          0  \n",
       "99999  2021-12-02 17:04:58          1  \n",
       "\n",
       "[100000 rows x 5 columns]"
      ]
     },
     "execution_count": 6,
     "metadata": {},
     "output_type": "execute_result"
    }
   ],
   "source": [
    "yelp_data['sentiment'] = yelp_data['stars'].apply(lambda x: 0 if x <= 2 else 1)\n",
    "yelp_data"
   ]
  },
  {
   "cell_type": "code",
   "execution_count": 7,
   "metadata": {},
   "outputs": [
    {
     "name": "stdout",
     "output_type": "stream",
     "text": [
      "(80000,)\n",
      "(20000,)\n"
     ]
    }
   ],
   "source": [
    "X_train, X_test, y_train, y_test = train_test_split(yelp_data['text'], yelp_data['sentiment'], test_size=0.2, random_state=123)\n",
    "\n",
    "# Define TF-IDF vectorizer and fit to the training data\n",
    "tfidf_vectorizer = TfidfVectorizer()\n",
    "X_train_tfidf = tfidf_vectorizer.fit_transform(X_train)\n",
    "\n",
    "# Transform testing data using the same vectorizer to prevent data leakage\n",
    "X_test_tfidf = tfidf_vectorizer.transform(X_test)\n",
    "\n",
    "# 80, 20 test/train split\n",
    "print(X_train.shape); print(X_test.shape)"
   ]
  },
  {
   "cell_type": "code",
   "execution_count": 8,
   "metadata": {},
   "outputs": [
    {
     "data": {
      "text/html": [
       "<div>\n",
       "<style scoped>\n",
       "    .dataframe tbody tr th:only-of-type {\n",
       "        vertical-align: middle;\n",
       "    }\n",
       "\n",
       "    .dataframe tbody tr th {\n",
       "        vertical-align: top;\n",
       "    }\n",
       "\n",
       "    .dataframe thead th {\n",
       "        text-align: right;\n",
       "    }\n",
       "</style>\n",
       "<table border=\"1\" class=\"dataframe\">\n",
       "  <thead>\n",
       "    <tr style=\"text-align: right;\">\n",
       "      <th></th>\n",
       "      <th>count</th>\n",
       "      <th>mean</th>\n",
       "      <th>std</th>\n",
       "      <th>min</th>\n",
       "      <th>25%</th>\n",
       "      <th>50%</th>\n",
       "      <th>75%</th>\n",
       "      <th>max</th>\n",
       "    </tr>\n",
       "  </thead>\n",
       "  <tbody>\n",
       "    <tr>\n",
       "      <th>Unnamed: 0</th>\n",
       "      <td>100000.0</td>\n",
       "      <td>49999.50000</td>\n",
       "      <td>28867.657797</td>\n",
       "      <td>0.0</td>\n",
       "      <td>24999.75</td>\n",
       "      <td>49999.5</td>\n",
       "      <td>74999.25</td>\n",
       "      <td>99999.0</td>\n",
       "    </tr>\n",
       "    <tr>\n",
       "      <th>stars</th>\n",
       "      <td>100000.0</td>\n",
       "      <td>3.74764</td>\n",
       "      <td>1.478322</td>\n",
       "      <td>1.0</td>\n",
       "      <td>3.00</td>\n",
       "      <td>4.0</td>\n",
       "      <td>5.00</td>\n",
       "      <td>5.0</td>\n",
       "    </tr>\n",
       "    <tr>\n",
       "      <th>sentiment</th>\n",
       "      <td>100000.0</td>\n",
       "      <td>0.76912</td>\n",
       "      <td>0.421398</td>\n",
       "      <td>0.0</td>\n",
       "      <td>1.00</td>\n",
       "      <td>1.0</td>\n",
       "      <td>1.00</td>\n",
       "      <td>1.0</td>\n",
       "    </tr>\n",
       "  </tbody>\n",
       "</table>\n",
       "</div>"
      ],
      "text/plain": [
       "               count         mean           std  min       25%      50%  \\\n",
       "Unnamed: 0  100000.0  49999.50000  28867.657797  0.0  24999.75  49999.5   \n",
       "stars       100000.0      3.74764      1.478322  1.0      3.00      4.0   \n",
       "sentiment   100000.0      0.76912      0.421398  0.0      1.00      1.0   \n",
       "\n",
       "                 75%      max  \n",
       "Unnamed: 0  74999.25  99999.0  \n",
       "stars           5.00      5.0  \n",
       "sentiment       1.00      1.0  "
      ]
     },
     "execution_count": 8,
     "metadata": {},
     "output_type": "execute_result"
    }
   ],
   "source": [
    "yelp_data.describe().transpose()"
   ]
  },
  {
   "cell_type": "code",
   "execution_count": 15,
   "metadata": {},
   "outputs": [],
   "source": [
    "nn = MLPClassifier(hidden_layer_sizes=(8,8,8), activation='relu', solver='adam', max_iter=500)\n",
    "nn.fit(X_train_tfidf,y_train)\n",
    "\n",
    "predict_train = nn.predict(X_train_tfidf)\n",
    "predict_test = nn.predict(X_test_tfidf)"
   ]
  },
  {
   "cell_type": "code",
   "execution_count": 77,
   "metadata": {},
   "outputs": [
    {
     "data": {
      "text/plain": [
       "<AxesSubplot: >"
      ]
     },
     "execution_count": 77,
     "metadata": {},
     "output_type": "execute_result"
    },
    {
     "data": {
      "image/png": "[encoded data removed]",
      "text/plain": [
       "<Figure size 640x480 with 2 Axes>"
      ]
     },
     "metadata": {},
     "output_type": "display_data"
    }
   ],
   "source": [
    "from sklearn.metrics import classification_report,confusion_matrix\n",
    "import seaborn as sns\n",
    "conf = confusion_matrix(y_test,predict_test)\n",
    "\n",
    "names = ['True Neg','False Pos','False Neg','True Pos']\n",
    "counts = [\"{0:0.0f}\".format(value) for value in\n",
    "                conf.flatten()]\n",
    "percentages = [\"{0:.2%}\".format(value) for value in\n",
    "                     conf.flatten()/np.sum(conf)]\n",
    "labels = [f\"{x}\\n{y}\\n{z}\" for x, y, z in\n",
    "          zip(names,counts,percentages)]\n",
    "labels = np.asarray(labels).reshape(2,2)\n",
    "sns.heatmap(conf, annot=labels, fmt='', cmap='Reds')"
   ]
  },
  {
   "cell_type": "code",
   "execution_count": 17,
   "metadata": {},
   "outputs": [
    {
     "name": "stdout",
     "output_type": "stream",
     "text": [
      "              precision    recall  f1-score   support\n",
      "\n",
      "           0       0.76      0.78      0.77      4669\n",
      "           1       0.93      0.92      0.93     15331\n",
      "\n",
      "    accuracy                           0.89     20000\n",
      "   macro avg       0.84      0.85      0.85     20000\n",
      "weighted avg       0.89      0.89      0.89     20000\n",
      "\n"
     ]
    }
   ],
   "source": [
    "print(classification_report(y_test,predict_test))"
   ]
  },
  {
   "cell_type": "code",
   "execution_count": 21,
   "metadata": {},
   "outputs": [
    {
     "data": {
      "text/html": [
       "<style>#sk-container-id-2 {color: black;background-color: white;}#sk-container-id-2 pre{padding: 0;}#sk-container-id-2 div.sk-toggleable {background-color: white;}#sk-container-id-2 label.sk-toggleable__label {cursor: pointer;display: block;width: 100%;margin-bottom: 0;padding: 0.3em;box-sizing: border-box;text-align: center;}#sk-container-id-2 label.sk-toggleable__label-arrow:before {content: \"▸\";float: left;margin-right: 0.25em;color: #696969;}#sk-container-id-2 label.sk-toggleable__label-arrow:hover:before {color: black;}#sk-container-id-2 div.sk-estimator:hover label.sk-toggleable__label-arrow:before {color: black;}#sk-container-id-2 div.sk-toggleable__content {max-height: 0;max-width: 0;overflow: hidden;text-align: left;background-color: #f0f8ff;}#sk-container-id-2 div.sk-toggleable__content pre {margin: 0.2em;color: black;border-radius: 0.25em;background-color: #f0f8ff;}#sk-container-id-2 input.sk-toggleable__control:checked~div.sk-toggleable__content {max-height: 200px;max-width: 100%;overflow: auto;}#sk-container-id-2 input.sk-toggleable__control:checked~label.sk-toggleable__label-arrow:before {content: \"▾\";}#sk-container-id-2 div.sk-estimator input.sk-toggleable__control:checked~label.sk-toggleable__label {background-color: #d4ebff;}#sk-container-id-2 div.sk-label input.sk-toggleable__control:checked~label.sk-toggleable__label {background-color: #d4ebff;}#sk-container-id-2 input.sk-hidden--visually {border: 0;clip: rect(1px 1px 1px 1px);clip: rect(1px, 1px, 1px, 1px);height: 1px;margin: -1px;overflow: hidden;padding: 0;position: absolute;width: 1px;}#sk-container-id-2 div.sk-estimator {font-family: monospace;background-color: #f0f8ff;border: 1px dotted black;border-radius: 0.25em;box-sizing: border-box;margin-bottom: 0.5em;}#sk-container-id-2 div.sk-estimator:hover {background-color: #d4ebff;}#sk-container-id-2 div.sk-parallel-item::after {content: \"\";width: 100%;border-bottom: 1px solid gray;flex-grow: 1;}#sk-container-id-2 div.sk-label:hover label.sk-toggleable__label {background-color: #d4ebff;}#sk-container-id-2 div.sk-serial::before {content: \"\";position: absolute;border-left: 1px solid gray;box-sizing: border-box;top: 0;bottom: 0;left: 50%;z-index: 0;}#sk-container-id-2 div.sk-serial {display: flex;flex-direction: column;align-items: center;background-color: white;padding-right: 0.2em;padding-left: 0.2em;position: relative;}#sk-container-id-2 div.sk-item {position: relative;z-index: 1;}#sk-container-id-2 div.sk-parallel {display: flex;align-items: stretch;justify-content: center;background-color: white;position: relative;}#sk-container-id-2 div.sk-item::before, #sk-container-id-2 div.sk-parallel-item::before {content: \"\";position: absolute;border-left: 1px solid gray;box-sizing: border-box;top: 0;bottom: 0;left: 50%;z-index: -1;}#sk-container-id-2 div.sk-parallel-item {display: flex;flex-direction: column;z-index: 1;position: relative;background-color: white;}#sk-container-id-2 div.sk-parallel-item:first-child::after {align-self: flex-end;width: 50%;}#sk-container-id-2 div.sk-parallel-item:last-child::after {align-self: flex-start;width: 50%;}#sk-container-id-2 div.sk-parallel-item:only-child::after {width: 0;}#sk-container-id-2 div.sk-dashed-wrapped {border: 1px dashed gray;margin: 0 0.4em 0.5em 0.4em;box-sizing: border-box;padding-bottom: 0.4em;background-color: white;}#sk-container-id-2 div.sk-label label {font-family: monospace;font-weight: bold;display: inline-block;line-height: 1.2em;}#sk-container-id-2 div.sk-label-container {text-align: center;}#sk-container-id-2 div.sk-container {/* jupyter's `normalize.less` sets `[hidden] { display: none; }` but bootstrap.min.css set `[hidden] { display: none !important; }` so we also need the `!important` here to be able to override the default hidden behavior on the sphinx rendered scikit-learn.org. See: https://github.com/scikit-learn/scikit-learn/issues/21755 */display: inline-block !important;position: relative;}#sk-container-id-2 div.sk-text-repr-fallback {display: none;}</style><div id=\"sk-container-id-2\" class=\"sk-top-container\"><div class=\"sk-text-repr-fallback\"><pre>GridSearchCV(cv=3,\n",
       "             estimator=MLPClassifier(hidden_layer_sizes=(8, 8, 8),\n",
       "                                     max_iter=500),\n",
       "             param_grid={&#x27;hidden_layer_sizes&#x27;: [(100,), (100, 50), (50,)],\n",
       "                         &#x27;max_iter&#x27;: [200, 400, 600]})</pre><b>In a Jupyter environment, please rerun this cell to show the HTML representation or trust the notebook. <br />On GitHub, the HTML representation is unable to render, please try loading this page with nbviewer.org.</b></div><div class=\"sk-container\" hidden><div class=\"sk-item sk-dashed-wrapped\"><div class=\"sk-label-container\"><div class=\"sk-label sk-toggleable\"><input class=\"sk-toggleable__control sk-hidden--visually\" id=\"sk-estimator-id-4\" type=\"checkbox\" ><label for=\"sk-estimator-id-4\" class=\"sk-toggleable__label sk-toggleable__label-arrow\">GridSearchCV</label><div class=\"sk-toggleable__content\"><pre>GridSearchCV(cv=3,\n",
       "             estimator=MLPClassifier(hidden_layer_sizes=(8, 8, 8),\n",
       "                                     max_iter=500),\n",
       "             param_grid={&#x27;hidden_layer_sizes&#x27;: [(100,), (100, 50), (50,)],\n",
       "                         &#x27;max_iter&#x27;: [200, 400, 600]})</pre></div></div></div><div class=\"sk-parallel\"><div class=\"sk-parallel-item\"><div class=\"sk-item\"><div class=\"sk-label-container\"><div class=\"sk-label sk-toggleable\"><input class=\"sk-toggleable__control sk-hidden--visually\" id=\"sk-estimator-id-5\" type=\"checkbox\" ><label for=\"sk-estimator-id-5\" class=\"sk-toggleable__label sk-toggleable__label-arrow\">estimator: MLPClassifier</label><div class=\"sk-toggleable__content\"><pre>MLPClassifier(hidden_layer_sizes=(8, 8, 8), max_iter=500)</pre></div></div></div><div class=\"sk-serial\"><div class=\"sk-item\"><div class=\"sk-estimator sk-toggleable\"><input class=\"sk-toggleable__control sk-hidden--visually\" id=\"sk-estimator-id-6\" type=\"checkbox\" ><label for=\"sk-estimator-id-6\" class=\"sk-toggleable__label sk-toggleable__label-arrow\">MLPClassifier</label><div class=\"sk-toggleable__content\"><pre>MLPClassifier(hidden_layer_sizes=(8, 8, 8), max_iter=500)</pre></div></div></div></div></div></div></div></div></div></div>"
      ],
      "text/plain": [
       "GridSearchCV(cv=3,\n",
       "             estimator=MLPClassifier(hidden_layer_sizes=(8, 8, 8),\n",
       "                                     max_iter=500),\n",
       "             param_grid={'hidden_layer_sizes': [(100,), (100, 50), (50,)],\n",
       "                         'max_iter': [200, 400, 600]})"
      ]
     },
     "execution_count": 21,
     "metadata": {},
     "output_type": "execute_result"
    }
   ],
   "source": [
    "from sklearn.model_selection import GridSearchCV\n",
    "\n",
    "param_grid = {\n",
    "    'hidden_layer_sizes': [(100,), (100, 50), (50,)],\n",
    "    'max_iter': [200, 400, 600],\n",
    "}\n",
    "grid_search = GridSearchCV(nn, param_grid, cv=3)\n",
    "grid_search.fit(X_train_tfidf,y_train)"
   ]
  },
  {
   "cell_type": "code",
   "execution_count": 38,
   "metadata": {},
   "outputs": [
    {
     "name": "stdout",
     "output_type": "stream",
     "text": [
      "Best parameters found:\n",
      " {'hidden_layer_sizes': (100, 50), 'max_iter': 200}\n",
      "              precision    recall  f1-score   support\n",
      "\n",
      "           0       0.81      0.80      0.81      4669\n",
      "           1       0.94      0.94      0.94     15331\n",
      "\n",
      "    accuracy                           0.91     20000\n",
      "   macro avg       0.88      0.87      0.87     20000\n",
      "weighted avg       0.91      0.91      0.91     20000\n",
      "\n"
     ]
    },
    {
     "data": {
      "text/plain": [
       "array([[ 3756,   913],\n",
       "       [  872, 14459]])"
      ]
     },
     "execution_count": 38,
     "metadata": {},
     "output_type": "execute_result"
    }
   ],
   "source": [
    "print('Best parameters found:\\n', grid_search.best_params_)"
   ]
  },
  {
   "cell_type": "code",
   "execution_count": null,
   "metadata": {},
   "outputs": [],
   "source": [
    "grid_search.score(X_train_tfidf, y_train)\n",
    "\n",
    "grid_prediction = grid_search.predict(X_test_tfidf)\n",
    "\n",
    "print(classification_report(y_test, grid_prediction))\n",
    "grid_search_matrix = confusion_matrix(y_test,grid_prediction)"
   ]
  },
  {
   "cell_type": "code",
   "execution_count": 75,
   "metadata": {},
   "outputs": [
    {
     "data": {
      "text/plain": [
       "<AxesSubplot: >"
      ]
     },
     "execution_count": 75,
     "metadata": {},
     "output_type": "execute_result"
    },
    {
     "data": {
      "image/png": "[encoded data removed]",
      "text/plain": [
       "<Figure size 640x480 with 2 Axes>"
      ]
     },
     "metadata": {},
     "output_type": "display_data"
    }
   ],
   "source": [
    "import seaborn as sns\n",
    "\n",
    "names = ['True Neg','False Pos','False Neg','True Pos']\n",
    "counts = [\"{0:0.0f}\".format(value) for value in\n",
    "                grid_search_matrix.flatten()]\n",
    "percentages = [\"{0:.2%}\".format(value) for value in\n",
    "                     grid_search_matrix.flatten()/np.sum(grid_search_matrix)]\n",
    "labels = [f\"{x}\\n{y}\\n{z}\" for x, y, z in\n",
    "          zip(names,counts,percentages)]\n",
    "labels = np.asarray(labels).reshape(2,2)\n",
    "sns.heatmap(grid_search_matrix, annot=labels, fmt='', cmap='Reds')"
   ]
  },
  {
   "cell_type": "code",
   "execution_count": 76,
   "metadata": {},
   "outputs": [
    {
     "name": "stdout",
     "output_type": "stream",
     "text": [
      "Accuracy: 0.91075\n",
      "AUC Score: 0.8737883474003282\n"
     ]
    }
   ],
   "source": [
    "from sklearn.metrics import accuracy_score, roc_auc_score\n",
    "accuracy = accuracy_score(y_test, grid_prediction)\n",
    "print(\"Accuracy:\", accuracy)\n",
    "\n",
    "auc_score = roc_auc_score(y_test, grid_prediction)\n",
    "print(\"AUC Score:\", auc_score)"
   ]
  }
 ],
 "metadata": {
  "kernelspec": {
   "display_name": "Python 3",
   "language": "python",
   "name": "python3"
  },
  "language_info": {
   "codemirror_mode": {
    "name": "ipython",
    "version": 3
   },
   "file_extension": ".py",
   "mimetype": "text/x-python",
   "name": "python",
   "nbconvert_exporter": "python",
   "pygments_lexer": "ipython3",
   "version": "3.11.2"
  },
  "orig_nbformat": 4
 },
 "nbformat": 4,
 "nbformat_minor": 2
}
